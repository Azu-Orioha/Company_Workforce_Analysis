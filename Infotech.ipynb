{
 "cells": [
  {
   "cell_type": "code",
   "execution_count": 3,
   "id": "78985da4",
   "metadata": {},
   "outputs": [],
   "source": [
    "import pandas as pd\n",
    "import pyodbc \n",
    "\n",
    "from sqlalchemy import create_engine"
   ]
  },
  {
   "cell_type": "code",
   "execution_count": 4,
   "id": "2e2e4022",
   "metadata": {},
   "outputs": [],
   "source": [
    "# load data into  SQL server\n",
    "import sqlalchemy as sal\n",
    "\n",
    "engine = sal.create_engine('mssql://DESKTOP-IAGAM2M\\SQLEXPRESS01/master?driver=ODBC+DRIVER+17+FOR+SQL+SERVER')\n",
    "conn=engine.connect(), "
   ]
  },
  {
   "cell_type": "code",
   "execution_count": 15,
   "id": "c63635da",
   "metadata": {},
   "outputs": [],
   "source": [
    "# Path to the Excel file\n",
    "excel_file_path = 'c:\\infotech\\HR.xlsx'"
   ]
  },
  {
   "cell_type": "code",
   "execution_count": 16,
   "id": "087f56b0",
   "metadata": {},
   "outputs": [],
   "source": [
    "# load the Excel file\n",
    "excel_file = pd.ExcelFile(excel_file_path)\n"
   ]
  },
  {
   "cell_type": "code",
   "execution_count": 21,
   "id": "326c7a90",
   "metadata": {},
   "outputs": [
    {
     "name": "stdout",
     "output_type": "stream",
     "text": [
      "Sheet names:\n",
      "['Employees', 'dept_manager', 'departments', 'dept_emp', 'salaries', 'employee_titles']\n"
     ]
    }
   ],
   "source": [
    "# Print Sheet names\n",
    "print(\"Sheet names:\")\n",
    "print(excel_file.sheet_names)\n"
   ]
  },
  {
   "cell_type": "code",
   "execution_count": 38,
   "id": "284f3573",
   "metadata": {},
   "outputs": [
    {
     "name": "stdout",
     "output_type": "stream",
     "text": [
      "\n",
      "Preview of Sheets :, Employees\n",
      "Data from sheet 'Employees' has been written to the Table 'Employees'\n",
      "\n",
      "Preview of Sheets :, dept_manager\n",
      "Data from sheet 'dept_manager' has been written to the Table 'dept_manager'\n",
      "\n",
      "Preview of Sheets :, departments\n",
      "Data from sheet 'departments' has been written to the Table 'departments'\n",
      "\n",
      "Preview of Sheets :, dept_emp\n",
      "Data from sheet 'dept_emp' has been written to the Table 'dept_emp'\n",
      "\n",
      "Preview of Sheets :, salaries\n",
      "Data from sheet 'salaries' has been written to the Table 'salaries'\n",
      "\n",
      "Preview of Sheets :, employee_titles\n",
      "Data from sheet 'employee_titles' has been written to the Table 'employee_titles'\n",
      "Data imported successfully\n"
     ]
    }
   ],
   "source": [
    "# Preview Data in Each Sheet\n",
    "\n",
    "for sheet_name in excel_file.sheet_names:\n",
    "    \n",
    "    try:\n",
    "        #load the sheet into a DataFrame\n",
    "        print(f\"\\nPreview of Sheets :, {sheet_name}\")\n",
    "        df = excel_file.parse(sheet_name)\n",
    "    \n",
    "        # Define the Table Name\n",
    "        table_name = sheet_name\n",
    "        \n",
    "        \n",
    "        # Write the DataFrame to SQL Server \n",
    "        df.to_sql(table_name, engine, if_exists = 'replace', index=False)\n",
    "        \n",
    "        \n",
    "        print(f\"Data from sheet '{sheet_name}' has been written to the Table '{table_name}'\")\n",
    "    \n",
    "    except SQLAlchemyError as e:\n",
    "        print (f\" Error writting data from the sheet, '{sheet_name}' to  table '{table_name}': {e}\")\n",
    "        \n",
    "        \n",
    "              \n",
    "print(\"Data imported successfully\") \n",
    "    \n",
    "    \n",
    "    \n",
    "    \n"
   ]
  },
  {
   "cell_type": "code",
   "execution_count": null,
   "id": "11268a41",
   "metadata": {},
   "outputs": [],
   "source": []
  }
 ],
 "metadata": {
  "kernelspec": {
   "display_name": "Python 3 (ipykernel)",
   "language": "python",
   "name": "python3"
  },
  "language_info": {
   "codemirror_mode": {
    "name": "ipython",
    "version": 3
   },
   "file_extension": ".py",
   "mimetype": "text/x-python",
   "name": "python",
   "nbconvert_exporter": "python",
   "pygments_lexer": "ipython3",
   "version": "3.9.12"
  }
 },
 "nbformat": 4,
 "nbformat_minor": 5
}
